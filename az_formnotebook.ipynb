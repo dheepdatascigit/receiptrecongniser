{
 "cells": [
  {
   "cell_type": "code",
   "execution_count": 1,
   "metadata": {},
   "outputs": [],
   "source": [
    "from azure.core.credentials import AzureKeyCredential\n",
    "from azure.ai.formrecognizer import DocumentAnalysisClient"
   ]
  },
  {
   "cell_type": "code",
   "execution_count": 2,
   "metadata": {},
   "outputs": [],
   "source": [
    "# endpoint = \"YOUR_FORM_RECOGNIZER_ENDPOINT\"\n",
    "# key = \"YOUR_FORM_RECOGNIZER_KEY\"\n",
    "\n",
    "# get key from Environment variables\n",
    "endpoint = os.environ.get(\"AZFORMRECOGENDPOINT\")\n",
    "key = os.environ.get(\"AZFORMRECOGKEY\")\n",
    "\n"
   ]
  },
  {
   "cell_type": "code",
   "execution_count": 3,
   "metadata": {},
   "outputs": [],
   "source": [
    "url = \"https://raw.githubusercontent.com/Azure/azure-sdk-for-python/main/sdk/formrecognizer/azure-ai-formrecognizer/tests/sample_forms/receipt/contoso-receipt.png\"\n",
    "\n",
    "document_analysis_client = DocumentAnalysisClient(\n",
    "    endpoint=endpoint, credential=AzureKeyCredential(key)\n",
    ")\n"
   ]
  },
  {
   "cell_type": "code",
   "execution_count": 4,
   "metadata": {},
   "outputs": [],
   "source": [
    "poller = document_analysis_client.begin_analyze_document_from_url(\"prebuilt-receipt\", url)\n",
    "receipts = poller.result()"
   ]
  },
  {
   "cell_type": "code",
   "execution_count": 6,
   "metadata": {},
   "outputs": [
    {
     "data": {
      "text/plain": [
       "['__class__',\n",
       " '__class_getitem__',\n",
       " '__delattr__',\n",
       " '__dict__',\n",
       " '__dir__',\n",
       " '__doc__',\n",
       " '__eq__',\n",
       " '__format__',\n",
       " '__ge__',\n",
       " '__getattribute__',\n",
       " '__gt__',\n",
       " '__hash__',\n",
       " '__init__',\n",
       " '__init_subclass__',\n",
       " '__le__',\n",
       " '__lt__',\n",
       " '__module__',\n",
       " '__ne__',\n",
       " '__new__',\n",
       " '__orig_bases__',\n",
       " '__parameters__',\n",
       " '__reduce__',\n",
       " '__reduce_ex__',\n",
       " '__repr__',\n",
       " '__setattr__',\n",
       " '__sizeof__',\n",
       " '__slots__',\n",
       " '__str__',\n",
       " '__subclasshook__',\n",
       " '__weakref__',\n",
       " '_callbacks',\n",
       " '_done',\n",
       " '_exception',\n",
       " '_is_protocol',\n",
       " '_polling_method',\n",
       " '_start',\n",
       " '_thread',\n",
       " 'add_done_callback',\n",
       " 'continuation_token',\n",
       " 'done',\n",
       " 'from_continuation_token',\n",
       " 'polling_method',\n",
       " 'remove_done_callback',\n",
       " 'result',\n",
       " 'status',\n",
       " 'wait']"
      ]
     },
     "execution_count": 6,
     "metadata": {},
     "output_type": "execute_result"
    }
   ],
   "source": [
    "type(poller)\n",
    "dir(poller)"
   ]
  },
  {
   "cell_type": "code",
   "execution_count": 9,
   "metadata": {},
   "outputs": [
    {
     "data": {
      "text/plain": [
       "AnalyzeResult(api_version=2022-08-31, model_id=prebuilt-receipt, content=Contoso\n",
       "Contoso\n",
       "123 Main Street\n",
       "Redmond, WA 98052\n",
       "123-456-7890\n",
       "6/10/2019 13:59\n",
       "Sales Associate: Paul\n",
       "1 Surface Pro 6 256GB / Intel Core i5 / 8GB RAM (Black) $ 999.00\n",
       "1 SurfacePen $ 99.99\n",
       "Sub-Total\n",
       "$\n",
       "1098.99\n",
       "Tax\n",
       "Total\n",
       "-\n",
       "$ 104.40\n",
       "$ 1203.39, languages=[], pages=[DocumentPage(page_number=1, angle=0.11986490339040756, width=1688.0, height=3000.0, unit=pixel, lines=[DocumentLine(content=Contoso, polygon=[Point(x=620.0, y=291.0), Point(x=1049.0, y=282.0), Point(x=1052.0, y=382.0), Point(x=622.0, y=393.0)], spans=[DocumentSpan(offset=0, length=7)]), DocumentLine(content=Contoso, polygon=[Point(x=322.0, y=588.0), Point(x=499.0, y=598.0), Point(x=496.0, y=652.0), Point(x=320.0, y=641.0)], spans=[DocumentSpan(offset=8, length=7)]), DocumentLine(content=123 Main Street, polygon=[Point(x=319.0, y=688.0), Point(x=648.0, y=694.0), Point(x=647.0, y=757.0), Point(x=318.0, y=752.0)], spans=[DocumentSpan(offset=16, length=15)]), DocumentLine(content=Redmond, WA 98052, polygon=[Point(x=313.0, y=792.0), Point(x=749.0, y=792.0), Point(x=749.0, y=857.0), Point(x=313.0, y=858.0)], spans=[DocumentSpan(offset=32, length=17)]), DocumentLine(content=123-456-7890, polygon=[Point(x=307.0, y=1003.0), Point(x=618.0, y=1006.0), Point(x=617.0, y=1068.0), Point(x=306.0, y=1063.0)], spans=[DocumentSpan(offset=50, length=12)]), DocumentLine(content=6/10/2019 13:59, polygon=[Point(x=299.0, y=1220.0), Point(x=630.0, y=1220.0), Point(x=630.0, y=1292.0), Point(x=299.0, y=1292.0)], spans=[DocumentSpan(offset=63, length=15)]), DocumentLine(content=Sales Associate: Paul, polygon=[Point(x=298.0, y=1335.0), Point(x=771.0, y=1336.0), Point(x=771.0, y=1399.0), Point(x=298.0, y=1397.0)], spans=[DocumentSpan(offset=79, length=21)]), DocumentLine(content=1 Surface Pro 6, polygon=[Point(x=329.0, y=1559.0), Point(x=676.0, y=1560.0), Point(x=675.0, y=1624.0), Point(x=329.0, y=1622.0)], spans=[DocumentSpan(offset=101, length=15)]), DocumentLine(content=256GB / Intel Core i5 /, polygon=[Point(x=367.0, y=1668.0), Point(x=846.0, y=1668.0), Point(x=845.0, y=1744.0), Point(x=367.0, y=1742.0)], spans=[DocumentSpan(offset=117, length=23)]), DocumentLine(content=8GB RAM (Black), polygon=[Point(x=365.0, y=1784.0), Point(x=731.0, y=1787.0), Point(x=731.0, y=1850.0), Point(x=364.0, y=1847.0)], spans=[DocumentSpan(offset=141, length=15)]), DocumentLine(content=$, polygon=[Point(x=939.0, y=1793.0), Point(x=971.0, y=1792.0), Point(x=967.0, y=1860.0), Point(x=937.0, y=1859.0)], spans=[DocumentSpan(offset=157, length=1)]), DocumentLine(content=999.00, polygon=[Point(x=978.0, y=1794.0), Point(x=1132.0, y=1797.0), Point(x=1130.0, y=1856.0), Point(x=976.0, y=1854.0)], spans=[DocumentSpan(offset=159, length=6)]), DocumentLine(content=1 SurfacePen, polygon=[Point(x=316.0, y=2017.0), Point(x=625.0, y=2013.0), Point(x=626.0, y=2078.0), Point(x=317.0, y=2083.0)], spans=[DocumentSpan(offset=166, length=12)]), DocumentLine(content=$, polygon=[Point(x=966.0, y=2030.0), Point(x=995.0, y=2030.0), Point(x=994.0, y=2091.0), Point(x=964.0, y=2089.0)], spans=[DocumentSpan(offset=179, length=1)]), DocumentLine(content=99.99, polygon=[Point(x=1004.0, y=2032.0), Point(x=1128.0, y=2028.0), Point(x=1127.0, y=2088.0), Point(x=1005.0, y=2089.0)], spans=[DocumentSpan(offset=181, length=5)]), DocumentLine(content=Sub-Total, polygon=[Point(x=471.0, y=2243.0), Point(x=699.0, y=2245.0), Point(x=698.0, y=2306.0), Point(x=470.0, y=2303.0)], spans=[DocumentSpan(offset=187, length=9)]), DocumentLine(content=$, polygon=[Point(x=920.0, y=2257.0), Point(x=956.0, y=2257.0), Point(x=956.0, y=2325.0), Point(x=921.0, y=2326.0)], spans=[DocumentSpan(offset=197, length=1)]), DocumentLine(content=1098.99, polygon=[Point(x=966.0, y=2265.0), Point(x=1132.0, y=2251.0), Point(x=1135.0, y=2313.0), Point(x=969.0, y=2323.0)], spans=[DocumentSpan(offset=199, length=7)]), DocumentLine(content=Tax, polygon=[Point(x=569.0, y=2356.0), Point(x=652.0, y=2356.0), Point(x=648.0, y=2416.0), Point(x=569.0, y=2414.0)], spans=[DocumentSpan(offset=207, length=3)]), DocumentLine(content=Total, polygon=[Point(x=545.0, y=2596.0), Point(x=665.0, y=2587.0), Point(x=667.0, y=2649.0), Point(x=548.0, y=2654.0)], spans=[DocumentSpan(offset=211, length=5)]), DocumentLine(content=-, polygon=[Point(x=1089.0, y=2173.0), Point(x=1114.0, y=2172.0), Point(x=1114.0, y=2185.0), Point(x=1089.0, y=2186.0)], spans=[DocumentSpan(offset=217, length=1)]), DocumentLine(content=$ 104.40, polygon=[Point(x=936.0, y=2372.0), Point(x=1127.0, y=2367.0), Point(x=1127.0, y=2431.0), Point(x=936.0, y=2437.0)], spans=[DocumentSpan(offset=219, length=8)]), DocumentLine(content=$ 1203.39, polygon=[Point(x=913.0, y=2590.0), Point(x=1125.0, y=2609.0), Point(x=1118.0, y=2674.0), Point(x=908.0, y=2655.0)], spans=[DocumentSpan(offset=228, length=9)])], words=[DocumentWord(content=Contoso, polygon=[Point(x=621.0, y=291.0), Point(x=1030.0, y=283.0), Point(x=1032.0, y=382.0), Point(x=622.0, y=393.0)], span=DocumentSpan(offset=0, length=7), confidence=0.993), DocumentWord(content=Contoso, polygon=[Point(x=323.0, y=588.0), Point(x=498.0, y=599.0), Point(x=496.0, y=653.0), Point(x=320.0, y=643.0)], span=DocumentSpan(offset=8, length=7), confidence=0.993), DocumentWord(content=123, polygon=[Point(x=321.0, y=689.0), Point(x=382.0, y=691.0), Point(x=380.0, y=753.0), Point(x=318.0, y=750.0)], span=DocumentSpan(offset=16, length=3), confidence=0.996), DocumentWord(content=Main, polygon=[Point(x=394.0, y=691.0), Point(x=493.0, y=694.0), Point(x=492.0, y=757.0), Point(x=392.0, y=754.0)], span=DocumentSpan(offset=20, length=4), confidence=0.99), DocumentWord(content=Street, polygon=[Point(x=506.0, y=694.0), Point(x=646.0, y=694.0), Point(x=647.0, y=757.0), Point(x=505.0, y=757.0)], span=DocumentSpan(offset=25, length=6), confidence=0.997), DocumentWord(content=Redmond,, polygon=[Point(x=318.0, y=793.0), Point(x=519.0, y=796.0), Point(x=516.0, y=859.0), Point(x=313.0, y=856.0)], span=DocumentSpan(offset=32, length=8), confidence=0.991), DocumentWord(content=WA, polygon=[Point(x=531.0, y=796.0), Point(x=593.0, y=796.0), Point(x=591.0, y=859.0), Point(x=529.0, y=859.0)], span=DocumentSpan(offset=41, length=2), confidence=0.997), DocumentWord(content=98052, polygon=[Point(x=605.0, y=796.0), Point(x=747.0, y=794.0), Point(x=747.0, y=854.0), Point(x=604.0, y=859.0)], span=DocumentSpan(offset=44, length=5), confidence=0.993), DocumentWord(content=123-456-7890, polygon=[Point(x=309.0, y=1003.0), Point(x=616.0, y=1007.0), Point(x=616.0, y=1069.0), Point(x=307.0, y=1062.0)], span=DocumentSpan(offset=50, length=12), confidence=0.991), DocumentWord(content=6/10/2019, polygon=[Point(x=302.0, y=1221.0), Point(x=494.0, y=1221.0), Point(x=493.0, y=1293.0), Point(x=299.0, y=1292.0)], span=DocumentSpan(offset=63, length=9), confidence=0.992), DocumentWord(content=13:59, polygon=[Point(x=508.0, y=1221.0), Point(x=627.0, y=1220.0), Point(x=626.0, y=1293.0), Point(x=507.0, y=1293.0)], span=DocumentSpan(offset=73, length=5), confidence=0.997), DocumentWord(content=Sales, polygon=[Point(x=299.0, y=1336.0), Point(x=406.0, y=1335.0), Point(x=406.0, y=1398.0), Point(x=299.0, y=1397.0)], span=DocumentSpan(offset=79, length=5), confidence=0.997), DocumentWord(content=Associate:, polygon=[Point(x=419.0, y=1335.0), Point(x=644.0, y=1336.0), Point(x=645.0, y=1400.0), Point(x=419.0, y=1398.0)], span=DocumentSpan(offset=85, length=10), confidence=0.994), DocumentWord(content=Paul, polygon=[Point(x=656.0, y=1336.0), Point(x=769.0, y=1336.0), Point(x=771.0, y=1400.0), Point(x=657.0, y=1400.0)], span=DocumentSpan(offset=96, length=4), confidence=0.988), DocumentWord(content=1, polygon=[Point(x=332.0, y=1559.0), Point(x=352.0, y=1559.0), Point(x=349.0, y=1623.0), Point(x=329.0, y=1623.0)], span=DocumentSpan(offset=101, length=1), confidence=0.991), DocumentWord(content=Surface, polygon=[Point(x=365.0, y=1560.0), Point(x=539.0, y=1561.0), Point(x=538.0, y=1624.0), Point(x=362.0, y=1623.0)], span=DocumentSpan(offset=103, length=7), confidence=0.996), DocumentWord(content=Pro, polygon=[Point(x=552.0, y=1561.0), Point(x=627.0, y=1561.0), Point(x=626.0, y=1625.0), Point(x=551.0, y=1624.0)], span=DocumentSpan(offset=111, length=3), confidence=0.995), DocumentWord(content=6, polygon=[Point(x=639.0, y=1561.0), Point(x=673.0, y=1561.0), Point(x=673.0, y=1625.0), Point(x=639.0, y=1625.0)], span=DocumentSpan(offset=115, length=1), confidence=0.998), DocumentWord(content=256GB, polygon=[Point(x=368.0, y=1669.0), Point(x=497.0, y=1670.0), Point(x=496.0, y=1742.0), Point(x=367.0, y=1738.0)], span=DocumentSpan(offset=117, length=5), confidence=0.997), DocumentWord(content=/, polygon=[Point(x=512.0, y=1670.0), Point(x=527.0, y=1670.0), Point(x=526.0, y=1743.0), Point(x=511.0, y=1743.0)], span=DocumentSpan(offset=123, length=1), confidence=0.994), DocumentWord(content=Intel, polygon=[Point(x=541.0, y=1670.0), Point(x=638.0, y=1669.0), Point(x=637.0, y=1744.0), Point(x=540.0, y=1743.0)], span=DocumentSpan(offset=125, length=5), confidence=0.914), DocumentWord(content=Core, polygon=[Point(x=653.0, y=1669.0), Point(x=750.0, y=1669.0), Point(x=748.0, y=1744.0), Point(x=651.0, y=1744.0)], span=DocumentSpan(offset=131, length=4), confidence=0.982), DocumentWord(content=i5, polygon=[Point(x=764.0, y=1669.0), Point(x=803.0, y=1669.0), Point(x=801.0, y=1744.0), Point(x=763.0, y=1744.0)], span=DocumentSpan(offset=136, length=2), confidence=0.995), DocumentWord(content=/, polygon=[Point(x=817.0, y=1668.0), Point(x=843.0, y=1668.0), Point(x=841.0, y=1744.0), Point(x=816.0, y=1744.0)], span=DocumentSpan(offset=139, length=1), confidence=0.994), DocumentWord(content=8GB, polygon=[Point(x=366.0, y=1785.0), Point(x=444.0, y=1785.0), Point(x=442.0, y=1848.0), Point(x=365.0, y=1848.0)], span=DocumentSpan(offset=141, length=3), confidence=0.994), DocumentWord(content=RAM, polygon=[Point(x=456.0, y=1785.0), Point(x=558.0, y=1786.0), Point(x=556.0, y=1849.0), Point(x=454.0, y=1848.0)], span=DocumentSpan(offset=145, length=3), confidence=0.997), DocumentWord(content=(Black), polygon=[Point(x=571.0, y=1787.0), Point(x=729.0, y=1788.0), Point(x=727.0, y=1851.0), Point(x=570.0, y=1849.0)], span=DocumentSpan(offset=149, length=7), confidence=0.995), DocumentWord(content=$, polygon=[Point(x=937.0, y=1792.0), Point(x=969.0, y=1792.0), Point(x=969.0, y=1860.0), Point(x=937.0, y=1860.0)], span=DocumentSpan(offset=157, length=1), confidence=0.927), DocumentWord(content=999.00, polygon=[Point(x=976.0, y=1794.0), Point(x=1130.0, y=1796.0), Point(x=1129.0, y=1856.0), Point(x=976.0, y=1853.0)], span=DocumentSpan(offset=159, length=6), confidence=0.993), DocumentWord(content=1, polygon=[Point(x=317.0, y=2019.0), Point(x=337.0, y=2018.0), Point(x=338.0, y=2084.0), Point(x=318.0, y=2084.0)], span=DocumentSpan(offset=166, length=1), confidence=0.981), DocumentWord(content=SurfacePen, polygon=[Point(x=350.0, y=2018.0), Point(x=623.0, y=2013.0), Point(x=624.0, y=2079.0), Point(x=351.0, y=2083.0)], span=DocumentSpan(offset=168, length=10), confidence=0.994), DocumentWord(content=$, polygon=[Point(x=965.0, y=2030.0), Point(x=989.0, y=2030.0), Point(x=987.0, y=2091.0), Point(x=964.0, y=2090.0)], span=DocumentSpan(offset=179, length=1), confidence=0.838), DocumentWord(content=99.99, polygon=[Point(x=1004.0, y=2030.0), Point(x=1128.0, y=2028.0), Point(x=1129.0, y=2087.0), Point(x=1005.0, y=2090.0)], span=DocumentSpan(offset=181, length=5), confidence=0.991), DocumentWord(content=Sub-Total, polygon=[Point(x=471.0, y=2244.0), Point(x=699.0, y=2246.0), Point(x=698.0, y=2307.0), Point(x=471.0, y=2304.0)], span=DocumentSpan(offset=187, length=9), confidence=0.899), DocumentWord(content=$, polygon=[Point(x=920.0, y=2257.0), Point(x=952.0, y=2257.0), Point(x=953.0, y=2326.0), Point(x=921.0, y=2326.0)], span=DocumentSpan(offset=197, length=1), confidence=0.988), DocumentWord(content=1098.99, polygon=[Point(x=966.0, y=2263.0), Point(x=1129.0, y=2251.0), Point(x=1134.0, y=2313.0), Point(x=969.0, y=2324.0)], span=DocumentSpan(offset=199, length=7), confidence=0.994), DocumentWord(content=Tax, polygon=[Point(x=572.0, y=2356.0), Point(x=649.0, y=2356.0), Point(x=648.0, y=2416.0), Point(x=571.0, y=2415.0)], span=DocumentSpan(offset=207, length=3), confidence=0.997), DocumentWord(content=Total, polygon=[Point(x=545.0, y=2594.0), Point(x=664.0, y=2587.0), Point(x=668.0, y=2649.0), Point(x=548.0, y=2655.0)], span=DocumentSpan(offset=211, length=5), confidence=0.859), DocumentWord(content=-, polygon=[Point(x=1101.0, y=2173.0), Point(x=1109.0, y=2172.0), Point(x=1110.0, y=2185.0), Point(x=1101.0, y=2186.0)], span=DocumentSpan(offset=217, length=1), confidence=0.503), DocumentWord(content=$, polygon=[Point(x=942.0, y=2372.0), Point(x=963.0, y=2371.0), Point(x=965.0, y=2435.0), Point(x=943.0, y=2436.0)], span=DocumentSpan(offset=219, length=1), confidence=0.994), DocumentWord(content=104.40, polygon=[Point(x=976.0, y=2371.0), Point(x=1126.0, y=2367.0), Point(x=1128.0, y=2430.0), Point(x=978.0, y=2435.0)], span=DocumentSpan(offset=221, length=6), confidence=0.997), DocumentWord(content=$, polygon=[Point(x=913.0, y=2590.0), Point(x=937.0, y=2592.0), Point(x=932.0, y=2658.0), Point(x=909.0, y=2657.0)], span=DocumentSpan(offset=228, length=1), confidence=0.993), DocumentWord(content=1203.39, polygon=[Point(x=950.0, y=2593.0), Point(x=1125.0, y=2613.0), Point(x=1117.0, y=2674.0), Point(x=945.0, y=2658.0)], span=DocumentSpan(offset=230, length=7), confidence=0.996)], selection_marks=[], spans=[DocumentSpan(offset=0, length=237)])], paragraphs=[DocumentParagraph(role=None, content=Contoso, bounding_regions=[BoundingRegion(page_number=1, polygon=[Point(x=619.0, y=291.0), Point(x=1049.0, y=280.0), Point(x=1052.0, y=382.0), Point(x=622.0, y=393.0)])], spans=[DocumentSpan(offset=0, length=7)]), DocumentParagraph(role=None, content=Contoso, bounding_regions=[BoundingRegion(page_number=1, polygon=[Point(x=322.0, y=588.0), Point(x=499.0, y=598.0), Point(x=496.0, y=652.0), Point(x=319.0, y=642.0)])], spans=[DocumentSpan(offset=8, length=7)]), DocumentParagraph(role=None, content=123 Main Street, bounding_regions=[BoundingRegion(page_number=1, polygon=[Point(x=319.0, y=688.0), Point(x=648.0, y=694.0), Point(x=647.0, y=757.0), Point(x=318.0, y=752.0)])], spans=[DocumentSpan(offset=16, length=15)]), DocumentParagraph(role=None, content=Redmond, WA 98052, bounding_regions=[BoundingRegion(page_number=1, polygon=[Point(x=313.0, y=792.0), Point(x=749.0, y=792.0), Point(x=749.0, y=857.0), Point(x=313.0, y=858.0)])], spans=[DocumentSpan(offset=32, length=17)]), DocumentParagraph(role=None, content=123-456-7890, bounding_regions=[BoundingRegion(page_number=1, polygon=[Point(x=307.0, y=1001.0), Point(x=618.0, y=1006.0), Point(x=617.0, y=1068.0), Point(x=306.0, y=1063.0)])], spans=[DocumentSpan(offset=50, length=12)]), DocumentParagraph(role=None, content=6/10/2019 13:59, bounding_regions=[BoundingRegion(page_number=1, polygon=[Point(x=299.0, y=1220.0), Point(x=630.0, y=1220.0), Point(x=630.0, y=1292.0), Point(x=299.0, y=1292.0)])], spans=[DocumentSpan(offset=63, length=15)]), DocumentParagraph(role=None, content=Sales Associate: Paul, bounding_regions=[BoundingRegion(page_number=1, polygon=[Point(x=298.0, y=1335.0), Point(x=771.0, y=1336.0), Point(x=771.0, y=1399.0), Point(x=298.0, y=1398.0)])], spans=[DocumentSpan(offset=79, length=21)]), DocumentParagraph(role=None, content=1 Surface Pro 6 256GB / Intel Core i5 / 8GB RAM (Black) $ 999.00, bounding_regions=[BoundingRegion(page_number=1, polygon=[Point(x=329.0, y=1553.0), Point(x=1137.0, y=1570.0), Point(x=1131.0, y=1864.0), Point(x=323.0, y=1846.0)])], spans=[DocumentSpan(offset=101, length=64)]), DocumentParagraph(role=None, content=1 SurfacePen $ 99.99, bounding_regions=[BoundingRegion(page_number=1, polygon=[Point(x=316.0, y=2009.0), Point(x=1128.0, y=2019.0), Point(x=1127.0, y=2093.0), Point(x=315.0, y=2083.0)])], spans=[DocumentSpan(offset=166, length=20)]), DocumentParagraph(role=None, content=Sub-Total, bounding_regions=[BoundingRegion(page_number=1, polygon=[Point(x=471.0, y=2243.0), Point(x=699.0, y=2245.0), Point(x=698.0, y=2306.0), Point(x=470.0, y=2303.0)])], spans=[DocumentSpan(offset=187, length=9)]), DocumentParagraph(role=None, content=$, bounding_regions=[BoundingRegion(page_number=1, polygon=[Point(x=920.0, y=2257.0), Point(x=956.0, y=2257.0), Point(x=956.0, y=2325.0), Point(x=921.0, y=2326.0)])], spans=[DocumentSpan(offset=197, length=1)]), DocumentParagraph(role=None, content=1098.99, bounding_regions=[BoundingRegion(page_number=1, polygon=[Point(x=966.0, y=2265.0), Point(x=1132.0, y=2251.0), Point(x=1135.0, y=2313.0), Point(x=969.0, y=2323.0)])], spans=[DocumentSpan(offset=199, length=7)]), DocumentParagraph(role=None, content=Tax, bounding_regions=[BoundingRegion(page_number=1, polygon=[Point(x=569.0, y=2356.0), Point(x=652.0, y=2356.0), Point(x=648.0, y=2416.0), Point(x=569.0, y=2414.0)])], spans=[DocumentSpan(offset=207, length=3)]), DocumentParagraph(role=None, content=Total, bounding_regions=[BoundingRegion(page_number=1, polygon=[Point(x=545.0, y=2592.0), Point(x=665.0, y=2587.0), Point(x=668.0, y=2649.0), Point(x=547.0, y=2654.0)])], spans=[DocumentSpan(offset=211, length=5)]), DocumentParagraph(role=None, content=-, bounding_regions=[BoundingRegion(page_number=1, polygon=[Point(x=1088.0, y=2173.0), Point(x=1114.0, y=2172.0), Point(x=1115.0, y=2185.0), Point(x=1089.0, y=2186.0)])], spans=[DocumentSpan(offset=217, length=1)]), DocumentParagraph(role=None, content=$ 104.40, bounding_regions=[BoundingRegion(page_number=1, polygon=[Point(x=936.0, y=2372.0), Point(x=1127.0, y=2367.0), Point(x=1127.0, y=2431.0), Point(x=936.0, y=2437.0)])], spans=[DocumentSpan(offset=219, length=8)]), DocumentParagraph(role=None, content=$ 1203.39, bounding_regions=[BoundingRegion(page_number=1, polygon=[Point(x=913.0, y=2590.0), Point(x=1125.0, y=2609.0), Point(x=1119.0, y=2674.0), Point(x=907.0, y=2655.0)])], spans=[DocumentSpan(offset=228, length=9)])], tables=[], key_value_pairs=[], styles=[], documents=[AnalyzedDocument(doc_type=receipt.retailMeal, bounding_regions=[BoundingRegion(page_number=1, polygon=[Point(x=0.0, y=0.0), Point(x=1688.0, y=0.0), Point(x=1688.0, y=3000.0), Point(x=0.0, y=3000.0)])], spans=[DocumentSpan(offset=0, length=237)], fields={'Items': DocumentField(value_type=list, value=[DocumentField(value_type=dictionary, value={'Description': DocumentField(value_type=string, value='Surface Pro 6', content=Surface Pro 6, bounding_regions=[BoundingRegion(page_number=1, polygon=[Point(x=362.0, y=1559.0), Point(x=673.0, y=1561.0), Point(x=673.0, y=1625.0), Point(x=362.0, y=1623.0)])], spans=[DocumentSpan(offset=103, length=13)], confidence=0.971), 'Quantity': DocumentField(value_type=float, value=1.0, content=1, bounding_regions=[BoundingRegion(page_number=1, polygon=[Point(x=332.0, y=1559.0), Point(x=352.0, y=1559.0), Point(x=349.0, y=1623.0), Point(x=329.0, y=1623.0)])], spans=[DocumentSpan(offset=101, length=1)], confidence=0.972), 'TotalPrice': DocumentField(value_type=float, value=999.0, content=$ 999.00, bounding_regions=[BoundingRegion(page_number=1, polygon=[Point(x=937.0, y=1791.0), Point(x=1130.0, y=1795.0), Point(x=1129.0, y=1863.0), Point(x=936.0, y=1860.0)])], spans=[DocumentSpan(offset=157, length=8)], confidence=0.966)}, content=1 Surface Pro 6 256GB / Intel Core i5 / 8GB RAM (Black) $ 999.00, bounding_regions=[BoundingRegion(page_number=1, polygon=[Point(x=329.0, y=1559.0), Point(x=1130.0, y=1559.0), Point(x=1130.0, y=1860.0), Point(x=329.0, y=1860.0)])], spans=[DocumentSpan(offset=101, length=64)], confidence=0.246), DocumentField(value_type=dictionary, value={'Description': DocumentField(value_type=string, value='SurfacePen', content=SurfacePen, bounding_regions=[BoundingRegion(page_number=1, polygon=[Point(x=350.0, y=2018.0), Point(x=623.0, y=2013.0), Point(x=624.0, y=2079.0), Point(x=351.0, y=2083.0)])], spans=[DocumentSpan(offset=168, length=10)], confidence=0.981), 'Quantity': DocumentField(value_type=float, value=1.0, content=1, bounding_regions=[BoundingRegion(page_number=1, polygon=[Point(x=317.0, y=2019.0), Point(x=337.0, y=2018.0), Point(x=338.0, y=2084.0), Point(x=318.0, y=2084.0)])], spans=[DocumentSpan(offset=166, length=1)], confidence=0.971), 'TotalPrice': DocumentField(value_type=float, value=99.99, content=$ 99.99, bounding_regions=[BoundingRegion(page_number=1, polygon=[Point(x=965.0, y=2025.0), Point(x=1130.0, y=2028.0), Point(x=1129.0, y=2094.0), Point(x=964.0, y=2091.0)])], spans=[DocumentSpan(offset=179, length=7)], confidence=0.953)}, content=1 SurfacePen $ 99.99, bounding_regions=[BoundingRegion(page_number=1, polygon=[Point(x=317.0, y=2018.0), Point(x=1128.0, y=2005.0), Point(x=1129.0, y=2089.0), Point(x=318.0, y=2102.0)])], spans=[DocumentSpan(offset=166, length=20)], confidence=0.512)], content=None, bounding_regions=[], spans=[], confidence=None), 'MerchantAddress': DocumentField(value_type=address, value=AddressValue(house_number=123, po_box=None, road=Main Street, city=Redmond, state=WA, postal_code=98052, country_region=None, street_address=123 Main Street), content=123 Main Street\n",
       "Redmond, WA 98052, bounding_regions=[BoundingRegion(page_number=1, polygon=[Point(x=315.0, y=689.0), Point(x=749.0, y=695.0), Point(x=747.0, y=862.0), Point(x=313.0, y=856.0)])], spans=[DocumentSpan(offset=16, length=33)], confidence=0.982), 'MerchantName': DocumentField(value_type=string, value='Contoso', content=Contoso, bounding_regions=[BoundingRegion(page_number=1, polygon=[Point(x=323.0, y=588.0), Point(x=498.0, y=599.0), Point(x=496.0, y=653.0), Point(x=320.0, y=643.0)])], spans=[DocumentSpan(offset=8, length=7)], confidence=0.981), 'MerchantPhoneNumber': DocumentField(value_type=phoneNumber, value='+11234567890', content=123-456-7890, bounding_regions=[BoundingRegion(page_number=1, polygon=[Point(x=309.0, y=1003.0), Point(x=616.0, y=1007.0), Point(x=616.0, y=1069.0), Point(x=307.0, y=1062.0)])], spans=[DocumentSpan(offset=50, length=12)], confidence=0.989), 'Subtotal': DocumentField(value_type=float, value=1098.99, content=$\n",
       "1098.99, bounding_regions=[BoundingRegion(page_number=1, polygon=[Point(x=920.0, y=2251.0), Point(x=1134.0, y=2251.0), Point(x=1134.0, y=2326.0), Point(x=920.0, y=2326.0)])], spans=[DocumentSpan(offset=197, length=9)], confidence=0.985), 'Total': DocumentField(value_type=float, value=1203.39, content=$ 1203.39, bounding_regions=[BoundingRegion(page_number=1, polygon=[Point(x=913.0, y=2589.0), Point(x=1125.0, y=2611.0), Point(x=1118.0, y=2679.0), Point(x=906.0, y=2657.0)])], spans=[DocumentSpan(offset=228, length=9)], confidence=0.986), 'TotalTax': DocumentField(value_type=float, value=104.4, content=$ 104.40, bounding_regions=[BoundingRegion(page_number=1, polygon=[Point(x=941.0, y=2372.0), Point(x=1126.0, y=2366.0), Point(x=1128.0, y=2430.0), Point(x=943.0, y=2436.0)])], spans=[DocumentSpan(offset=219, length=8)], confidence=0.987), 'TransactionDate': DocumentField(value_type=date, value=datetime.date(2019, 6, 10), content=6/10/2019, bounding_regions=[BoundingRegion(page_number=1, polygon=[Point(x=302.0, y=1221.0), Point(x=494.0, y=1221.0), Point(x=493.0, y=1293.0), Point(x=299.0, y=1292.0)])], spans=[DocumentSpan(offset=63, length=9)], confidence=0.989), 'TransactionTime': DocumentField(value_type=time, value=datetime.time(13, 59), content=13:59, bounding_regions=[BoundingRegion(page_number=1, polygon=[Point(x=508.0, y=1221.0), Point(x=627.0, y=1220.0), Point(x=626.0, y=1293.0), Point(x=507.0, y=1293.0)])], spans=[DocumentSpan(offset=73, length=5)], confidence=0.988)}, confidence=0.983)])"
      ]
     },
     "execution_count": 9,
     "metadata": {},
     "output_type": "execute_result"
    }
   ],
   "source": [
    "poller.result()"
   ]
  },
  {
   "cell_type": "code",
   "execution_count": 10,
   "metadata": {},
   "outputs": [
    {
     "name": "stdout",
     "output_type": "stream",
     "text": [
      "--------Recognizing receipt #1--------\n",
      "Receipt Type: receipt.retailMeal\n",
      "Merchant Name: Contoso has confidence: 0.981\n"
     ]
    }
   ],
   "source": [
    "for idx, receipt in enumerate(receipts.documents):\n",
    "    print(\"--------Recognizing receipt #{}--------\".format(idx + 1))\n",
    "    receipt_type = receipt.doc_type\n",
    "    if receipt_type:\n",
    "        print(\n",
    "            \"Receipt Type: {}\".format(receipt_type)\n",
    "        )\n",
    "    merchant_name = receipt.fields.get(\"MerchantName\")\n",
    "    if merchant_name:\n",
    "        print(\n",
    "            \"Merchant Name: {} has confidence: {}\".format(\n",
    "                merchant_name.value, merchant_name.confidence\n",
    "            )\n",
    "        )"
   ]
  },
  {
   "cell_type": "code",
   "execution_count": 17,
   "metadata": {},
   "outputs": [
    {
     "name": "stdout",
     "output_type": "stream",
     "text": [
      "\n",
      "0\n",
      "AnalyzedDocument(doc_type=receipt.retailMeal, bounding_regions=[BoundingRegion(page_number=1, polygon=[Point(x=0.0, y=0.0), Point(x=1688.0, y=0.0), Point(x=1688.0, y=3000.0), Point(x=0.0, y=3000.0)])], spans=[DocumentSpan(offset=0, length=237)], fields={'Items': DocumentField(value_type=list, value=[DocumentField(value_type=dictionary, value={'Description': DocumentField(value_type=string, value='Surface Pro 6', content=Surface Pro 6, bounding_regions=[BoundingRegion(page_number=1, polygon=[Point(x=362.0, y=1559.0), Point(x=673.0, y=1561.0), Point(x=673.0, y=1625.0), Point(x=362.0, y=1623.0)])], spans=[DocumentSpan(offset=103, length=13)], confidence=0.971), 'Quantity': DocumentField(value_type=float, value=1.0, content=1, bounding_regions=[BoundingRegion(page_number=1, polygon=[Point(x=332.0, y=1559.0), Point(x=352.0, y=1559.0), Point(x=349.0, y=1623.0), Point(x=329.0, y=1623.0)])], spans=[DocumentSpan(offset=101, length=1)], confidence=0.972), 'TotalPrice': DocumentField(value_type=float, value=999.0, content=$ 999.00, bounding_regions=[BoundingRegion(page_number=1, polygon=[Point(x=937.0, y=1791.0), Point(x=1130.0, y=1795.0), Point(x=1129.0, y=1863.0), Point(x=936.0, y=1860.0)])], spans=[DocumentSpan(offset=157, length=8)], confidence=0.966)}, content=1 Surface Pro 6 256GB / Intel Core i5 / 8GB RAM (Black) $ 999.00, bounding_regions=[BoundingRegion(page_number=1, polygon=[Point(x=329.0, y=1559.0), Point(x=1130.0, y=1559.0), Point(x=1130.0, y=1860.0), Point(x=329.0, y=1860.0)])], spans=[DocumentSpan(offset=101, length=64)], confidence=0.246), DocumentField(value_type=dictionary, value={'Description': DocumentField(value_type=string, value='SurfacePen', content=SurfacePen, bounding_regions=[BoundingRegion(page_number=1, polygon=[Point(x=350.0, y=2018.0), Point(x=623.0, y=2013.0), Point(x=624.0, y=2079.0), Point(x=351.0, y=2083.0)])], spans=[DocumentSpan(offset=168, length=10)], confidence=0.981), 'Quantity': DocumentField(value_type=float, value=1.0, content=1, bounding_regions=[BoundingRegion(page_number=1, polygon=[Point(x=317.0, y=2019.0), Point(x=337.0, y=2018.0), Point(x=338.0, y=2084.0), Point(x=318.0, y=2084.0)])], spans=[DocumentSpan(offset=166, length=1)], confidence=0.971), 'TotalPrice': DocumentField(value_type=float, value=99.99, content=$ 99.99, bounding_regions=[BoundingRegion(page_number=1, polygon=[Point(x=965.0, y=2025.0), Point(x=1130.0, y=2028.0), Point(x=1129.0, y=2094.0), Point(x=964.0, y=2091.0)])], spans=[DocumentSpan(offset=179, length=7)], confidence=0.953)}, content=1 SurfacePen $ 99.99, bounding_regions=[BoundingRegion(page_number=1, polygon=[Point(x=317.0, y=2018.0), Point(x=1128.0, y=2005.0), Point(x=1129.0, y=2089.0), Point(x=318.0, y=2102.0)])], spans=[DocumentSpan(offset=166, length=20)], confidence=0.512)], content=None, bounding_regions=[], spans=[], confidence=None), 'MerchantAddress': DocumentField(value_type=address, value=AddressValue(house_number=123, po_box=None, road=Main Street, city=Redmond, state=WA, postal_code=98052, country_region=None, street_address=123 Main Street), content=123 Main Street\n",
      "Redmond, WA 98052, bounding_regions=[BoundingRegion(page_number=1, polygon=[Point(x=315.0, y=689.0), Point(x=749.0, y=695.0), Point(x=747.0, y=862.0), Point(x=313.0, y=856.0)])], spans=[DocumentSpan(offset=16, length=33)], confidence=0.982), 'MerchantName': DocumentField(value_type=string, value='Contoso', content=Contoso, bounding_regions=[BoundingRegion(page_number=1, polygon=[Point(x=323.0, y=588.0), Point(x=498.0, y=599.0), Point(x=496.0, y=653.0), Point(x=320.0, y=643.0)])], spans=[DocumentSpan(offset=8, length=7)], confidence=0.981), 'MerchantPhoneNumber': DocumentField(value_type=phoneNumber, value='+11234567890', content=123-456-7890, bounding_regions=[BoundingRegion(page_number=1, polygon=[Point(x=309.0, y=1003.0), Point(x=616.0, y=1007.0), Point(x=616.0, y=1069.0), Point(x=307.0, y=1062.0)])], spans=[DocumentSpan(offset=50, length=12)], confidence=0.989), 'Subtotal': DocumentField(value_type=float, value=1098.99, content=$\n",
      "1098.99, bounding_regions=[BoundingRegion(page_number=1, polygon=[Point(x=920.0, y=2251.0), Point(x=1134.0, y=2251.0), Point(x=1134.0, y=2326.0), Point(x=920.0, y=2326.0)])], spans=[DocumentSpan(offset=197, length=9)], confidence=0.985), 'Total': DocumentField(value_type=float, value=1203.39, content=$ 1203.39, bounding_regions=[BoundingRegion(page_number=1, polygon=[Point(x=913.0, y=2589.0), Point(x=1125.0, y=2611.0), Point(x=1118.0, y=2679.0), Point(x=906.0, y=2657.0)])], spans=[DocumentSpan(offset=228, length=9)], confidence=0.986), 'TotalTax': DocumentField(value_type=float, value=104.4, content=$ 104.40, bounding_regions=[BoundingRegion(page_number=1, polygon=[Point(x=941.0, y=2372.0), Point(x=1126.0, y=2366.0), Point(x=1128.0, y=2430.0), Point(x=943.0, y=2436.0)])], spans=[DocumentSpan(offset=219, length=8)], confidence=0.987), 'TransactionDate': DocumentField(value_type=date, value=datetime.date(2019, 6, 10), content=6/10/2019, bounding_regions=[BoundingRegion(page_number=1, polygon=[Point(x=302.0, y=1221.0), Point(x=494.0, y=1221.0), Point(x=493.0, y=1293.0), Point(x=299.0, y=1292.0)])], spans=[DocumentSpan(offset=63, length=9)], confidence=0.989), 'TransactionTime': DocumentField(value_type=time, value=datetime.time(13, 59), content=13:59, bounding_regions=[BoundingRegion(page_number=1, polygon=[Point(x=508.0, y=1221.0), Point(x=627.0, y=1220.0), Point(x=626.0, y=1293.0), Point(x=507.0, y=1293.0)])], spans=[DocumentSpan(offset=73, length=5)], confidence=0.988)}, confidence=0.983)\n",
      "\n"
     ]
    },
    {
     "data": {
      "text/plain": [
       "[None]"
      ]
     },
     "execution_count": 17,
     "metadata": {},
     "output_type": "execute_result"
    }
   ],
   "source": [
    "[print(f\"\\n{x}\\n{y}\\n\") for x,y in enumerate(receipts.documents)]"
   ]
  },
  {
   "cell_type": "code",
   "execution_count": 22,
   "metadata": {},
   "outputs": [
    {
     "ename": "AttributeError",
     "evalue": "'list' object has no attribute 'fields'",
     "output_type": "error",
     "traceback": [
      "\u001b[1;31m---------------------------------------------------------------------------\u001b[0m",
      "\u001b[1;31mAttributeError\u001b[0m                            Traceback (most recent call last)",
      "Cell \u001b[1;32mIn [22], line 2\u001b[0m\n\u001b[0;32m      1\u001b[0m rct \u001b[38;5;241m=\u001b[39m receipts\u001b[38;5;241m.\u001b[39mdocuments\n\u001b[1;32m----> 2\u001b[0m \u001b[38;5;28mprint\u001b[39m(rct\u001b[38;5;241m.\u001b[39mfields\u001b[38;5;241m.\u001b[39mget(\u001b[38;5;124m\"\u001b[39m\u001b[38;5;124mMerchantName\u001b[39m\u001b[38;5;124m\"\u001b[39m))\n",
      "\u001b[1;31mAttributeError\u001b[0m: 'list' object has no attribute 'fields'"
     ]
    }
   ],
   "source": [
    "rct = receipts.documents\n",
    "print(rct.fields.get(\"MerchantName\"))"
   ]
  },
  {
   "cell_type": "code",
   "execution_count": null,
   "metadata": {},
   "outputs": [],
   "source": []
  }
 ],
 "metadata": {
  "kernelspec": {
   "display_name": "Python 3.9.13 ('venv_azformrecog')",
   "language": "python",
   "name": "python3"
  },
  "language_info": {
   "codemirror_mode": {
    "name": "ipython",
    "version": 3
   },
   "file_extension": ".py",
   "mimetype": "text/x-python",
   "name": "python",
   "nbconvert_exporter": "python",
   "pygments_lexer": "ipython3",
   "version": "3.9.13"
  },
  "orig_nbformat": 4,
  "vscode": {
   "interpreter": {
    "hash": "7e4da52045ede9635cd23e3bd4be9ec2e8adb029c1b42cb4ecb346e63edf325c"
   }
  }
 },
 "nbformat": 4,
 "nbformat_minor": 2
}
